{
  "cells": [
    {
      "cell_type": "code",
      "execution_count": null,
      "metadata": {
        "colab": {
          "base_uri": "https://localhost:8080/"
        },
        "id": "UINCbTWAqDva",
        "outputId": "88207427-69df-4c72-a89d-0e987fd1af7c"
      },
      "outputs": [
        {
          "name": "stdout",
          "output_type": "stream",
          "text": [
            "Looking in indexes: https://pypi.org/simple, https://us-python.pkg.dev/colab-wheels/public/simple/\n",
            "Collecting lightkurve\n",
            "  Downloading lightkurve-2.0.11-py3-none-any.whl (247 kB)\n",
            "\u001b[K     |████████████████████████████████| 247 kB 4.5 MB/s \n",
            "\u001b[?25hCollecting fbpca>=1.0\n",
            "  Downloading fbpca-1.0.tar.gz (11 kB)\n",
            "Requirement already satisfied: requests>=2.22.0 in /usr/local/lib/python3.7/dist-packages (from lightkurve) (2.23.0)\n",
            "Requirement already satisfied: astropy>=4.1 in /usr/local/lib/python3.7/dist-packages (from lightkurve) (4.3.1)\n",
            "Requirement already satisfied: scikit-learn>=0.24.0 in /usr/local/lib/python3.7/dist-packages (from lightkurve) (1.0.2)\n",
            "Requirement already satisfied: tqdm>=4.25.0 in /usr/local/lib/python3.7/dist-packages (from lightkurve) (4.64.0)\n",
            "Collecting uncertainties>=3.1.4\n",
            "  Downloading uncertainties-3.1.6-py2.py3-none-any.whl (98 kB)\n",
            "\u001b[K     |████████████████████████████████| 98 kB 6.8 MB/s \n",
            "\u001b[?25hRequirement already satisfied: numpy>=1.11 in /usr/local/lib/python3.7/dist-packages (from lightkurve) (1.21.6)\n",
            "Requirement already satisfied: pandas>=1.1.4 in /usr/local/lib/python3.7/dist-packages (from lightkurve) (1.3.5)\n",
            "Requirement already satisfied: matplotlib>=1.5.3 in /usr/local/lib/python3.7/dist-packages (from lightkurve) (3.2.2)\n",
            "Requirement already satisfied: scipy>=0.19.0 in /usr/local/lib/python3.7/dist-packages (from lightkurve) (1.4.1)\n",
            "Collecting memoization>=0.3.1\n",
            "  Downloading memoization-0.4.0.tar.gz (41 kB)\n",
            "\u001b[K     |████████████████████████████████| 41 kB 193 kB/s \n",
            "\u001b[?25hCollecting oktopus>=0.1.2\n",
            "  Downloading oktopus-0.1.2.tar.gz (10 kB)\n",
            "Requirement already satisfied: bokeh>=1.0 in /usr/local/lib/python3.7/dist-packages (from lightkurve) (2.3.3)\n",
            "Collecting astroquery>=0.3.10\n",
            "  Downloading astroquery-0.4.6-py3-none-any.whl (4.5 MB)\n",
            "\u001b[K     |████████████████████████████████| 4.5 MB 35.7 MB/s \n",
            "\u001b[?25hRequirement already satisfied: beautifulsoup4>=4.6.0 in /usr/local/lib/python3.7/dist-packages (from lightkurve) (4.6.3)\n",
            "Requirement already satisfied: patsy>=0.5.0 in /usr/local/lib/python3.7/dist-packages (from lightkurve) (0.5.2)\n",
            "Requirement already satisfied: pyerfa>=1.7.3 in /usr/local/lib/python3.7/dist-packages (from astropy>=4.1->lightkurve) (2.0.0.1)\n",
            "Requirement already satisfied: importlib-metadata in /usr/local/lib/python3.7/dist-packages (from astropy>=4.1->lightkurve) (4.11.3)\n",
            "Requirement already satisfied: html5lib>=0.999 in /usr/local/lib/python3.7/dist-packages (from astroquery>=0.3.10->lightkurve) (1.0.1)\n",
            "Collecting keyring>=4.0\n",
            "  Downloading keyring-23.5.1-py3-none-any.whl (33 kB)\n",
            "Collecting pyvo>=1.1\n",
            "  Downloading pyvo-1.2.1-py3-none-any.whl (832 kB)\n",
            "\u001b[K     |████████████████████████████████| 832 kB 48.9 MB/s \n",
            "\u001b[?25hRequirement already satisfied: pillow>=7.1.0 in /usr/local/lib/python3.7/dist-packages (from bokeh>=1.0->lightkurve) (7.1.2)\n",
            "Requirement already satisfied: PyYAML>=3.10 in /usr/local/lib/python3.7/dist-packages (from bokeh>=1.0->lightkurve) (3.13)\n",
            "Requirement already satisfied: tornado>=5.1 in /usr/local/lib/python3.7/dist-packages (from bokeh>=1.0->lightkurve) (5.1.1)\n",
            "Requirement already satisfied: python-dateutil>=2.1 in /usr/local/lib/python3.7/dist-packages (from bokeh>=1.0->lightkurve) (2.8.2)\n",
            "Requirement already satisfied: typing-extensions>=3.7.4 in /usr/local/lib/python3.7/dist-packages (from bokeh>=1.0->lightkurve) (4.2.0)\n",
            "Requirement already satisfied: packaging>=16.8 in /usr/local/lib/python3.7/dist-packages (from bokeh>=1.0->lightkurve) (21.3)\n",
            "Requirement already satisfied: Jinja2>=2.9 in /usr/local/lib/python3.7/dist-packages (from bokeh>=1.0->lightkurve) (2.11.3)\n",
            "Requirement already satisfied: six>=1.9 in /usr/local/lib/python3.7/dist-packages (from html5lib>=0.999->astroquery>=0.3.10->lightkurve) (1.15.0)\n",
            "Requirement already satisfied: webencodings in /usr/local/lib/python3.7/dist-packages (from html5lib>=0.999->astroquery>=0.3.10->lightkurve) (0.5.1)\n",
            "Requirement already satisfied: MarkupSafe>=0.23 in /usr/local/lib/python3.7/dist-packages (from Jinja2>=2.9->bokeh>=1.0->lightkurve) (2.0.1)\n",
            "Collecting SecretStorage>=3.2\n",
            "  Downloading SecretStorage-3.3.2-py3-none-any.whl (15 kB)\n",
            "Collecting jeepney>=0.4.2\n",
            "  Downloading jeepney-0.8.0-py3-none-any.whl (48 kB)\n",
            "\u001b[K     |████████████████████████████████| 48 kB 5.4 MB/s \n",
            "\u001b[?25hRequirement already satisfied: zipp>=0.5 in /usr/local/lib/python3.7/dist-packages (from importlib-metadata->astropy>=4.1->lightkurve) (3.8.0)\n",
            "Requirement already satisfied: pyparsing!=2.0.4,!=2.1.2,!=2.1.6,>=2.0.1 in /usr/local/lib/python3.7/dist-packages (from matplotlib>=1.5.3->lightkurve) (3.0.9)\n",
            "Requirement already satisfied: cycler>=0.10 in /usr/local/lib/python3.7/dist-packages (from matplotlib>=1.5.3->lightkurve) (0.11.0)\n",
            "Requirement already satisfied: kiwisolver>=1.0.1 in /usr/local/lib/python3.7/dist-packages (from matplotlib>=1.5.3->lightkurve) (1.4.2)\n",
            "Requirement already satisfied: autograd in /usr/local/lib/python3.7/dist-packages (from oktopus>=0.1.2->lightkurve) (1.4)\n",
            "Requirement already satisfied: pytz>=2017.3 in /usr/local/lib/python3.7/dist-packages (from pandas>=1.1.4->lightkurve) (2022.1)\n",
            "Requirement already satisfied: urllib3!=1.25.0,!=1.25.1,<1.26,>=1.21.1 in /usr/local/lib/python3.7/dist-packages (from requests>=2.22.0->lightkurve) (1.24.3)\n",
            "Requirement already satisfied: chardet<4,>=3.0.2 in /usr/local/lib/python3.7/dist-packages (from requests>=2.22.0->lightkurve) (3.0.4)\n",
            "Requirement already satisfied: certifi>=2017.4.17 in /usr/local/lib/python3.7/dist-packages (from requests>=2.22.0->lightkurve) (2022.5.18.1)\n",
            "Requirement already satisfied: idna<3,>=2.5 in /usr/local/lib/python3.7/dist-packages (from requests>=2.22.0->lightkurve) (2.10)\n",
            "Requirement already satisfied: threadpoolctl>=2.0.0 in /usr/local/lib/python3.7/dist-packages (from scikit-learn>=0.24.0->lightkurve) (3.1.0)\n",
            "Requirement already satisfied: joblib>=0.11 in /usr/local/lib/python3.7/dist-packages (from scikit-learn>=0.24.0->lightkurve) (1.1.0)\n",
            "Collecting cryptography>=2.0\n",
            "  Downloading cryptography-37.0.2-cp36-abi3-manylinux_2_24_x86_64.whl (4.0 MB)\n",
            "\u001b[K     |████████████████████████████████| 4.0 MB 34.5 MB/s \n",
            "\u001b[?25hRequirement already satisfied: cffi>=1.12 in /usr/local/lib/python3.7/dist-packages (from cryptography>=2.0->SecretStorage>=3.2->keyring>=4.0->astroquery>=0.3.10->lightkurve) (1.15.0)\n",
            "Requirement already satisfied: pycparser in /usr/local/lib/python3.7/dist-packages (from cffi>=1.12->cryptography>=2.0->SecretStorage>=3.2->keyring>=4.0->astroquery>=0.3.10->lightkurve) (2.21)\n",
            "Requirement already satisfied: future in /usr/local/lib/python3.7/dist-packages (from uncertainties>=3.1.4->lightkurve) (0.16.0)\n",
            "Building wheels for collected packages: fbpca, memoization, oktopus\n",
            "  Building wheel for fbpca (setup.py) ... \u001b[?25l\u001b[?25hdone\n",
            "  Created wheel for fbpca: filename=fbpca-1.0-py3-none-any.whl size=11375 sha256=51ba1231b23b0e8b19da62319fb9af8c92a8fbd5f6d26d34358c8023173a56c3\n",
            "  Stored in directory: /root/.cache/pip/wheels/93/08/0c/1b9866c35c8d3f136d100dfe88036a32e0795437daca089f70\n",
            "  Building wheel for memoization (setup.py) ... \u001b[?25l\u001b[?25hdone\n",
            "  Created wheel for memoization: filename=memoization-0.4.0-py3-none-any.whl size=50467 sha256=634854a45fa6799e82a29eebb9739b71e9bbb87edebe30a7b97967474679cb16\n",
            "  Stored in directory: /root/.cache/pip/wheels/38/f7/65/161985e7311dd484a23b3a5c9149995dbf11db6cede602e7ef\n",
            "  Building wheel for oktopus (setup.py) ... \u001b[?25l\u001b[?25hdone\n",
            "  Created wheel for oktopus: filename=oktopus-0.1.2-py3-none-any.whl size=12779 sha256=821fb953d20e43c3724c7801f5b83895edf4d1d957395ba17ebd49710c9f0038\n",
            "  Stored in directory: /root/.cache/pip/wheels/19/22/e3/6d224a32d6f94f28113d6d26c8bef81d7e05978d0efed29517\n",
            "Successfully built fbpca memoization oktopus\n",
            "Installing collected packages: jeepney, cryptography, SecretStorage, pyvo, keyring, uncertainties, oktopus, memoization, fbpca, astroquery, lightkurve\n",
            "Successfully installed SecretStorage-3.3.2 astroquery-0.4.6 cryptography-37.0.2 fbpca-1.0 jeepney-0.8.0 keyring-23.5.1 lightkurve-2.0.11 memoization-0.4.0 oktopus-0.1.2 pyvo-1.2.1 uncertainties-3.1.6\n",
            "Looking in indexes: https://pypi.org/simple, https://us-python.pkg.dev/colab-wheels/public/simple/\n",
            "Collecting transitleastsquares\n",
            "  Downloading transitleastsquares-1.0.31-py3-none-any.whl (47 kB)\n",
            "\u001b[K     |████████████████████████████████| 47 kB 2.1 MB/s \n",
            "\u001b[?25hCollecting batman-package\n",
            "  Downloading batman-package-2.4.9.tar.gz (394 kB)\n",
            "\u001b[K     |████████████████████████████████| 394 kB 6.8 MB/s \n",
            "\u001b[?25h  Installing build dependencies ... \u001b[?25l\u001b[?25hdone\n",
            "  Getting requirements to build wheel ... \u001b[?25l\u001b[?25hdone\n",
            "    Preparing wheel metadata ... \u001b[?25l\u001b[?25hdone\n",
            "Requirement already satisfied: numpy in /usr/local/lib/python3.7/dist-packages (from transitleastsquares) (1.21.6)\n",
            "Requirement already satisfied: numba in /usr/local/lib/python3.7/dist-packages (from transitleastsquares) (0.51.2)\n",
            "Collecting configparser\n",
            "  Downloading configparser-5.2.0-py3-none-any.whl (19 kB)\n",
            "Requirement already satisfied: astroquery>=0.3.9 in /usr/local/lib/python3.7/dist-packages (from transitleastsquares) (0.4.6)\n",
            "Requirement already satisfied: tqdm in /usr/local/lib/python3.7/dist-packages (from transitleastsquares) (4.64.0)\n",
            "Requirement already satisfied: requests>=2.4.3 in /usr/local/lib/python3.7/dist-packages (from astroquery>=0.3.9->transitleastsquares) (2.23.0)\n",
            "Requirement already satisfied: html5lib>=0.999 in /usr/local/lib/python3.7/dist-packages (from astroquery>=0.3.9->transitleastsquares) (1.0.1)\n",
            "Requirement already satisfied: pyvo>=1.1 in /usr/local/lib/python3.7/dist-packages (from astroquery>=0.3.9->transitleastsquares) (1.2.1)\n",
            "Requirement already satisfied: beautifulsoup4>=4.3.2 in /usr/local/lib/python3.7/dist-packages (from astroquery>=0.3.9->transitleastsquares) (4.6.3)\n",
            "Requirement already satisfied: astropy>=4.0 in /usr/local/lib/python3.7/dist-packages (from astroquery>=0.3.9->transitleastsquares) (4.3.1)\n",
            "Requirement already satisfied: keyring>=4.0 in /usr/local/lib/python3.7/dist-packages (from astroquery>=0.3.9->transitleastsquares) (23.5.1)\n",
            "Requirement already satisfied: importlib-metadata in /usr/local/lib/python3.7/dist-packages (from astropy>=4.0->astroquery>=0.3.9->transitleastsquares) (4.11.3)\n",
            "Requirement already satisfied: pyerfa>=1.7.3 in /usr/local/lib/python3.7/dist-packages (from astropy>=4.0->astroquery>=0.3.9->transitleastsquares) (2.0.0.1)\n",
            "Requirement already satisfied: webencodings in /usr/local/lib/python3.7/dist-packages (from html5lib>=0.999->astroquery>=0.3.9->transitleastsquares) (0.5.1)\n",
            "Requirement already satisfied: six>=1.9 in /usr/local/lib/python3.7/dist-packages (from html5lib>=0.999->astroquery>=0.3.9->transitleastsquares) (1.15.0)\n",
            "Requirement already satisfied: jeepney>=0.4.2 in /usr/local/lib/python3.7/dist-packages (from keyring>=4.0->astroquery>=0.3.9->transitleastsquares) (0.8.0)\n",
            "Requirement already satisfied: SecretStorage>=3.2 in /usr/local/lib/python3.7/dist-packages (from keyring>=4.0->astroquery>=0.3.9->transitleastsquares) (3.3.2)\n",
            "Requirement already satisfied: zipp>=0.5 in /usr/local/lib/python3.7/dist-packages (from importlib-metadata->astropy>=4.0->astroquery>=0.3.9->transitleastsquares) (3.8.0)\n",
            "Requirement already satisfied: typing-extensions>=3.6.4 in /usr/local/lib/python3.7/dist-packages (from importlib-metadata->astropy>=4.0->astroquery>=0.3.9->transitleastsquares) (4.2.0)\n",
            "Requirement already satisfied: urllib3!=1.25.0,!=1.25.1,<1.26,>=1.21.1 in /usr/local/lib/python3.7/dist-packages (from requests>=2.4.3->astroquery>=0.3.9->transitleastsquares) (1.24.3)\n",
            "Requirement already satisfied: chardet<4,>=3.0.2 in /usr/local/lib/python3.7/dist-packages (from requests>=2.4.3->astroquery>=0.3.9->transitleastsquares) (3.0.4)\n",
            "Requirement already satisfied: certifi>=2017.4.17 in /usr/local/lib/python3.7/dist-packages (from requests>=2.4.3->astroquery>=0.3.9->transitleastsquares) (2022.5.18.1)\n",
            "Requirement already satisfied: idna<3,>=2.5 in /usr/local/lib/python3.7/dist-packages (from requests>=2.4.3->astroquery>=0.3.9->transitleastsquares) (2.10)\n",
            "Requirement already satisfied: cryptography>=2.0 in /usr/local/lib/python3.7/dist-packages (from SecretStorage>=3.2->keyring>=4.0->astroquery>=0.3.9->transitleastsquares) (37.0.2)\n",
            "Requirement already satisfied: cffi>=1.12 in /usr/local/lib/python3.7/dist-packages (from cryptography>=2.0->SecretStorage>=3.2->keyring>=4.0->astroquery>=0.3.9->transitleastsquares) (1.15.0)\n",
            "Requirement already satisfied: pycparser in /usr/local/lib/python3.7/dist-packages (from cffi>=1.12->cryptography>=2.0->SecretStorage>=3.2->keyring>=4.0->astroquery>=0.3.9->transitleastsquares) (2.21)\n",
            "Requirement already satisfied: setuptools in /usr/local/lib/python3.7/dist-packages (from numba->transitleastsquares) (57.4.0)\n",
            "Requirement already satisfied: llvmlite<0.35,>=0.34.0.dev0 in /usr/local/lib/python3.7/dist-packages (from numba->transitleastsquares) (0.34.0)\n",
            "Building wheels for collected packages: batman-package\n",
            "  Building wheel for batman-package (PEP 517) ... \u001b[?25l\u001b[?25hdone\n",
            "  Created wheel for batman-package: filename=batman_package-2.4.9-cp37-cp37m-linux_x86_64.whl size=221105 sha256=d02432b5f327d9827532bd68081791a7502071c0b8c69f49f36cee4a36d85182\n",
            "  Stored in directory: /root/.cache/pip/wheels/90/76/e2/1e2923a7fe1c1ee8d6f5ae53e8f1bc75e070f5f174bf02badc\n",
            "Successfully built batman-package\n",
            "Installing collected packages: configparser, batman-package, transitleastsquares\n",
            "Successfully installed batman-package-2.4.9 configparser-5.2.0 transitleastsquares-1.0.31\n",
            "Looking in indexes: https://pypi.org/simple, https://us-python.pkg.dev/colab-wheels/public/simple/\n",
            "Collecting wotan\n",
            "  Downloading wotan-1.10-py3-none-any.whl (30 kB)\n",
            "Requirement already satisfied: numpy in /usr/local/lib/python3.7/dist-packages (from wotan) (1.21.6)\n",
            "Requirement already satisfied: scipy in /usr/local/lib/python3.7/dist-packages (from wotan) (1.4.1)\n",
            "Requirement already satisfied: numba in /usr/local/lib/python3.7/dist-packages (from wotan) (0.51.2)\n",
            "Requirement already satisfied: setuptools in /usr/local/lib/python3.7/dist-packages (from numba->wotan) (57.4.0)\n",
            "Requirement already satisfied: llvmlite<0.35,>=0.34.0.dev0 in /usr/local/lib/python3.7/dist-packages (from numba->wotan) (0.34.0)\n",
            "Installing collected packages: wotan\n",
            "Successfully installed wotan-1.10\n",
            "Looking in indexes: https://pypi.org/simple, https://us-python.pkg.dev/colab-wheels/public/simple/\n",
            "Requirement already satisfied: astroquery in /usr/local/lib/python3.7/dist-packages (0.4.6)\n",
            "Requirement already satisfied: requests>=2.4.3 in /usr/local/lib/python3.7/dist-packages (from astroquery) (2.23.0)\n",
            "Requirement already satisfied: numpy>=1.16 in /usr/local/lib/python3.7/dist-packages (from astroquery) (1.21.6)\n",
            "Requirement already satisfied: astropy>=4.0 in /usr/local/lib/python3.7/dist-packages (from astroquery) (4.3.1)\n",
            "Requirement already satisfied: pyvo>=1.1 in /usr/local/lib/python3.7/dist-packages (from astroquery) (1.2.1)\n",
            "Requirement already satisfied: html5lib>=0.999 in /usr/local/lib/python3.7/dist-packages (from astroquery) (1.0.1)\n",
            "Requirement already satisfied: keyring>=4.0 in /usr/local/lib/python3.7/dist-packages (from astroquery) (23.5.1)\n",
            "Requirement already satisfied: beautifulsoup4>=4.3.2 in /usr/local/lib/python3.7/dist-packages (from astroquery) (4.6.3)\n",
            "Requirement already satisfied: importlib-metadata in /usr/local/lib/python3.7/dist-packages (from astropy>=4.0->astroquery) (4.11.3)\n",
            "Requirement already satisfied: pyerfa>=1.7.3 in /usr/local/lib/python3.7/dist-packages (from astropy>=4.0->astroquery) (2.0.0.1)\n",
            "Requirement already satisfied: six>=1.9 in /usr/local/lib/python3.7/dist-packages (from html5lib>=0.999->astroquery) (1.15.0)\n",
            "Requirement already satisfied: webencodings in /usr/local/lib/python3.7/dist-packages (from html5lib>=0.999->astroquery) (0.5.1)\n",
            "Requirement already satisfied: SecretStorage>=3.2 in /usr/local/lib/python3.7/dist-packages (from keyring>=4.0->astroquery) (3.3.2)\n",
            "Requirement already satisfied: jeepney>=0.4.2 in /usr/local/lib/python3.7/dist-packages (from keyring>=4.0->astroquery) (0.8.0)\n",
            "Requirement already satisfied: typing-extensions>=3.6.4 in /usr/local/lib/python3.7/dist-packages (from importlib-metadata->astropy>=4.0->astroquery) (4.2.0)\n",
            "Requirement already satisfied: zipp>=0.5 in /usr/local/lib/python3.7/dist-packages (from importlib-metadata->astropy>=4.0->astroquery) (3.8.0)\n",
            "Requirement already satisfied: urllib3!=1.25.0,!=1.25.1,<1.26,>=1.21.1 in /usr/local/lib/python3.7/dist-packages (from requests>=2.4.3->astroquery) (1.24.3)\n",
            "Requirement already satisfied: certifi>=2017.4.17 in /usr/local/lib/python3.7/dist-packages (from requests>=2.4.3->astroquery) (2022.5.18.1)\n",
            "Requirement already satisfied: chardet<4,>=3.0.2 in /usr/local/lib/python3.7/dist-packages (from requests>=2.4.3->astroquery) (3.0.4)\n",
            "Requirement already satisfied: idna<3,>=2.5 in /usr/local/lib/python3.7/dist-packages (from requests>=2.4.3->astroquery) (2.10)\n",
            "Requirement already satisfied: cryptography>=2.0 in /usr/local/lib/python3.7/dist-packages (from SecretStorage>=3.2->keyring>=4.0->astroquery) (37.0.2)\n",
            "Requirement already satisfied: cffi>=1.12 in /usr/local/lib/python3.7/dist-packages (from cryptography>=2.0->SecretStorage>=3.2->keyring>=4.0->astroquery) (1.15.0)\n",
            "Requirement already satisfied: pycparser in /usr/local/lib/python3.7/dist-packages (from cffi>=1.12->cryptography>=2.0->SecretStorage>=3.2->keyring>=4.0->astroquery) (2.21)\n"
          ]
        }
      ],
      "source": [
        "!pip install lightkurve \n",
        "!pip install transitleastsquares\n",
        "!pip install wotan\n",
        "!pip install astroquery\n",
        "import lightkurve as lk\n",
        "import transitleastsquares as tls\n",
        "from wotan import flatten, t14\n",
        "import astroquery.mast as astromast"
      ]
    },
    {
      "cell_type": "code",
      "execution_count": null,
      "metadata": {
        "id": "myVGYpoa5gcb"
      },
      "outputs": [],
      "source": [
        "import numpy as np\n",
        "import pandas as pd\n",
        "import scipy\n",
        "import tensorflow as tf\n",
        "from tensorflow import keras\n",
        "from tensorflow.keras import layers\n",
        "from tensorflow.keras import Input\n",
        "from astropy.io import fits\n",
        "import os \n",
        "import subprocess\n",
        "import matplotlib.pyplot as plt"
      ]
    },
    {
      "cell_type": "code",
      "execution_count": null,
      "metadata": {
        "id": "Y3TNnA5_cZf7"
      },
      "outputs": [],
      "source": [
        "import time\n",
        "import tqdm\n",
        "from astropy.stats import sigma_clip"
      ]
    },
    {
      "cell_type": "code",
      "execution_count": null,
      "metadata": {
        "colab": {
          "base_uri": "https://localhost:8080/"
        },
        "id": "5yvi7eIstMxt",
        "outputId": "94608872-e660-444d-aceb-3f6be386e25d"
      },
      "outputs": [
        {
          "name": "stdout",
          "output_type": "stream",
          "text": [
            "Drive already mounted at /content/drive; to attempt to forcibly remount, call drive.mount(\"/content/drive\", force_remount=True).\n"
          ]
        }
      ],
      "source": [
        "from google.colab import drive\n",
        "drive.mount('/content/drive')"
      ]
    },
    {
      "cell_type": "markdown",
      "metadata": {
        "id": "a5g6YDL6ZUm3"
      },
      "source": [
        "\n",
        "\n"
      ]
    },
    {
      "cell_type": "code",
      "execution_count": 58,
      "metadata": {
        "id": "KAAo_IebZcXJ"
      },
      "outputs": [],
      "source": [
        "def load_file(n):\n",
        "  return '/content/drive/Othercomputers/My Laptop/ML Project/MAST/tic2file-sec'+ str(n) +'.csv'\n",
        "\n",
        "def read_csv(n):\n",
        "  csv_file = load_file(n)\n",
        "  df = pd.read_csv(csv_file)\n",
        "  return df\n",
        "\n",
        "# print(read_csv(21))\n",
        "\n",
        "def light_curve(n,id):\n",
        "  light_curve = lk.search_lightcurve('TIC' + str(id), exptime = 120, sector = n).download()\n",
        "  return light_curve\n",
        "\n",
        "# light_curve(21, read_csv(21)['tic_id'][0])"
      ]
    },
    {
      "cell_type": "code",
      "execution_count": 57,
      "metadata": {
        "id": "Qk8-oO1hPokN"
      },
      "outputs": [],
      "source": [
        ""
      ]
    },
    {
      "cell_type": "code",
      "execution_count": 60,
      "metadata": {
        "id": "4srJ62TkuHNs"
      },
      "outputs": [],
      "source": [
        "def load_lightcurve(n, tess_id):\n",
        "  curves = []\n",
        "  initial_path = '/content/drive/Othercomputers/My Laptop/ML Project/MAST/Sector ' + str(n) + '/'\n",
        "  files = read_csv(n)['Filename'][read_csv.loc(read_csv['tic_id'] == tess_id)]\n",
        "  for i in files:\n",
        "    filepath = os.path.join(initial_path, i)\n",
        "    curves.append(lk.search.open(filepath))\n",
        "  light_curves = lk.LightCurveFileCollection(curves)\n",
        "  return light_curves.stitch()"
      ]
    },
    {
      "cell_type": "code",
      "execution_count": null,
      "metadata": {
        "colab": {
          "base_uri": "https://localhost:8080/",
          "height": 206
        },
        "id": "7k8AdivYAVSr",
        "outputId": "412fec77-0280-4c33-cf69-5e8c7031e71a"
      },
      "outputs": [
        {
          "data": {
            "text/html": [
              "\n",
              "  <div id=\"df-5102de04-5dd7-4153-ae18-17f33cddd257\">\n",
              "    <div class=\"colab-df-container\">\n",
              "      <div>\n",
              "<style scoped>\n",
              "    .dataframe tbody tr th:only-of-type {\n",
              "        vertical-align: middle;\n",
              "    }\n",
              "\n",
              "    .dataframe tbody tr th {\n",
              "        vertical-align: top;\n",
              "    }\n",
              "\n",
              "    .dataframe thead th {\n",
              "        text-align: right;\n",
              "    }\n",
              "</style>\n",
              "<table border=\"1\" class=\"dataframe\">\n",
              "  <thead>\n",
              "    <tr style=\"text-align: right;\">\n",
              "      <th></th>\n",
              "      <th>tic_id</th>\n",
              "      <th>Sector</th>\n",
              "      <th>Filename</th>\n",
              "    </tr>\n",
              "  </thead>\n",
              "  <tbody>\n",
              "    <tr>\n",
              "      <th>0</th>\n",
              "      <td>275634677</td>\n",
              "      <td>24</td>\n",
              "      <td>tess2020106103520-s0024-0000000275634677-0180-...</td>\n",
              "    </tr>\n",
              "    <tr>\n",
              "      <th>1</th>\n",
              "      <td>428740087</td>\n",
              "      <td>24</td>\n",
              "      <td>tess2020106103520-s0024-0000000428740087-0180-...</td>\n",
              "    </tr>\n",
              "    <tr>\n",
              "      <th>2</th>\n",
              "      <td>441802949</td>\n",
              "      <td>24</td>\n",
              "      <td>tess2020106103520-s0024-0000000441802949-0180-...</td>\n",
              "    </tr>\n",
              "    <tr>\n",
              "      <th>3</th>\n",
              "      <td>188768068</td>\n",
              "      <td>24</td>\n",
              "      <td>tess2020106103520-s0024-0000000188768068-0180-...</td>\n",
              "    </tr>\n",
              "    <tr>\n",
              "      <th>4</th>\n",
              "      <td>343410928</td>\n",
              "      <td>24</td>\n",
              "      <td>tess2020106103520-s0024-0000000343410928-0180-...</td>\n",
              "    </tr>\n",
              "  </tbody>\n",
              "</table>\n",
              "</div>\n",
              "      <button class=\"colab-df-convert\" onclick=\"convertToInteractive('df-5102de04-5dd7-4153-ae18-17f33cddd257')\"\n",
              "              title=\"Convert this dataframe to an interactive table.\"\n",
              "              style=\"display:none;\">\n",
              "        \n",
              "  <svg xmlns=\"http://www.w3.org/2000/svg\" height=\"24px\"viewBox=\"0 0 24 24\"\n",
              "       width=\"24px\">\n",
              "    <path d=\"M0 0h24v24H0V0z\" fill=\"none\"/>\n",
              "    <path d=\"M18.56 5.44l.94 2.06.94-2.06 2.06-.94-2.06-.94-.94-2.06-.94 2.06-2.06.94zm-11 1L8.5 8.5l.94-2.06 2.06-.94-2.06-.94L8.5 2.5l-.94 2.06-2.06.94zm10 10l.94 2.06.94-2.06 2.06-.94-2.06-.94-.94-2.06-.94 2.06-2.06.94z\"/><path d=\"M17.41 7.96l-1.37-1.37c-.4-.4-.92-.59-1.43-.59-.52 0-1.04.2-1.43.59L10.3 9.45l-7.72 7.72c-.78.78-.78 2.05 0 2.83L4 21.41c.39.39.9.59 1.41.59.51 0 1.02-.2 1.41-.59l7.78-7.78 2.81-2.81c.8-.78.8-2.07 0-2.86zM5.41 20L4 18.59l7.72-7.72 1.47 1.35L5.41 20z\"/>\n",
              "  </svg>\n",
              "      </button>\n",
              "      \n",
              "  <style>\n",
              "    .colab-df-container {\n",
              "      display:flex;\n",
              "      flex-wrap:wrap;\n",
              "      gap: 12px;\n",
              "    }\n",
              "\n",
              "    .colab-df-convert {\n",
              "      background-color: #E8F0FE;\n",
              "      border: none;\n",
              "      border-radius: 50%;\n",
              "      cursor: pointer;\n",
              "      display: none;\n",
              "      fill: #1967D2;\n",
              "      height: 32px;\n",
              "      padding: 0 0 0 0;\n",
              "      width: 32px;\n",
              "    }\n",
              "\n",
              "    .colab-df-convert:hover {\n",
              "      background-color: #E2EBFA;\n",
              "      box-shadow: 0px 1px 2px rgba(60, 64, 67, 0.3), 0px 1px 3px 1px rgba(60, 64, 67, 0.15);\n",
              "      fill: #174EA6;\n",
              "    }\n",
              "\n",
              "    [theme=dark] .colab-df-convert {\n",
              "      background-color: #3B4455;\n",
              "      fill: #D2E3FC;\n",
              "    }\n",
              "\n",
              "    [theme=dark] .colab-df-convert:hover {\n",
              "      background-color: #434B5C;\n",
              "      box-shadow: 0px 1px 3px 1px rgba(0, 0, 0, 0.15);\n",
              "      filter: drop-shadow(0px 1px 2px rgba(0, 0, 0, 0.3));\n",
              "      fill: #FFFFFF;\n",
              "    }\n",
              "  </style>\n",
              "\n",
              "      <script>\n",
              "        const buttonEl =\n",
              "          document.querySelector('#df-5102de04-5dd7-4153-ae18-17f33cddd257 button.colab-df-convert');\n",
              "        buttonEl.style.display =\n",
              "          google.colab.kernel.accessAllowed ? 'block' : 'none';\n",
              "\n",
              "        async function convertToInteractive(key) {\n",
              "          const element = document.querySelector('#df-5102de04-5dd7-4153-ae18-17f33cddd257');\n",
              "          const dataTable =\n",
              "            await google.colab.kernel.invokeFunction('convertToInteractive',\n",
              "                                                     [key], {});\n",
              "          if (!dataTable) return;\n",
              "\n",
              "          const docLinkHtml = 'Like what you see? Visit the ' +\n",
              "            '<a target=\"_blank\" href=https://colab.research.google.com/notebooks/data_table.ipynb>data table notebook</a>'\n",
              "            + ' to learn more about interactive tables.';\n",
              "          element.innerHTML = '';\n",
              "          dataTable['output_type'] = 'display_data';\n",
              "          await google.colab.output.renderOutput(dataTable, element);\n",
              "          const docLink = document.createElement('div');\n",
              "          docLink.innerHTML = docLinkHtml;\n",
              "          element.appendChild(docLink);\n",
              "        }\n",
              "      </script>\n",
              "    </div>\n",
              "  </div>\n",
              "  "
            ],
            "text/plain": [
              "      tic_id  Sector                                           Filename\n",
              "0  275634677      24  tess2020106103520-s0024-0000000275634677-0180-...\n",
              "1  428740087      24  tess2020106103520-s0024-0000000428740087-0180-...\n",
              "2  441802949      24  tess2020106103520-s0024-0000000441802949-0180-...\n",
              "3  188768068      24  tess2020106103520-s0024-0000000188768068-0180-...\n",
              "4  343410928      24  tess2020106103520-s0024-0000000343410928-0180-..."
            ]
          },
          "execution_count": 13,
          "metadata": {},
          "output_type": "execute_result"
        }
      ],
      "source": [
        "read_csv(24).head()"
      ]
    },
    {
      "cell_type": "markdown",
      "metadata": {
        "id": "m1adxEMZOgI-"
      },
      "source": [
        "### 2"
      ]
    },
    {
      "cell_type": "code",
      "execution_count": 59,
      "metadata": {
        "id": "pxE3L2o5uprT"
      },
      "outputs": [],
      "source": [
        "# Takes some time to compute\n",
        "def fits_data(n):\n",
        "  df = read_csv(n)\n",
        "  initial_path = '/content/drive/Othercomputers/My Laptop/ML Project/MAST/Sector ' + str(n) + '/'\n",
        "  for i in range(len(df)):\n",
        "    print(i)\n",
        "    file_fit = os.path.join(initial_path, df['Filename'][i])\n",
        "    if not os.path.exists(file_fit):\n",
        "      continue\n",
        "                \n",
        "    try:\n",
        "      tic = T0= depth= period =period_uncertainty=duration=t_mag=t_eff=radius_0=distinct_transit_count=a=b=log=rp_rs=depth_even=depth_odd=odd_even_mismatch=snr=SDE = []\n",
        "      with fits.open(file_fit) as hdu:\n",
        "        hdu.info()\n",
        "        tic_id = hdu[0].header['TICID']\n",
        "        tess_mag = hdu[0].header[\"TESSMAG\"] # [mag]\n",
        "        temp_eff = hdu[0].header[\"TEFF\"] # K\n",
        "        logg = hdu[0].header[\"LOGG\"] # [cm/s2] log10 surface gravity\n",
        "        rad = hdu[0].header['RADIUS'] # [solar radii] stellar radius \n",
        "        time = hdu[1].data['TIME']\n",
        "        flux = hdu[1].data['PDCSAP_FLUX']  \n",
        "        time, flux = tls.cleaned_array(time, flux)  \n",
        "        flux = flux / np.median(flux)\n",
        "        ab, mass, mass_min, mass_max, radius, radius_min, radius_max = tls.catalog_info(TIC_ID= tic_id)\n",
        "        print('Searching with limb-darkening estimates using quadratic LD (a,b)=', ab)\n",
        "\n",
        "        # print('Period', format(results.period, '.5f'), 'd at T0=', results.T0)\n",
        "        # print(len(results.transit_times), 'transit times in time series:', ['{0:0.5f}'.format(i) for i in results.transit_times])\n",
        "        # print('Number of data points during each unique transit', results.per_transit_count)\n",
        "        # print('The number of transits with intransit data points', results.distinct_transit_count)\n",
        "        # print('The number of transits with no intransit data points', results.empty_transit_count)\n",
        "        # print('Transit depth', format(results.depth, '.5f'), '(at the transit bottom)')\n",
        "        # print('Transit duration (days)', format(results.duration, '.5f'))\n",
        "        # print('Transit depths (mean)', results.transit_depths)\n",
        "        # print('Transit depth uncertainties', results.transit_depths_uncertainties)\n",
        "        if np.isnan(mass) or np.isnan(radius):\n",
        "            flatten_lc, trend_lc = flatten(time, flux, window_length=0.5, method='biweight', return_trend=True)\n",
        "            flux = sigma_clip(flatten_lc, sigma_upper=3, sigma_lower=20)\n",
        "            \n",
        "            # if numpy.mean(flux) > 1.01 or numpy.mean(flux) < 0.99:\n",
        "            #     # Normalize by the mean if needed\n",
        "            #     flux = flux / numpy.mean(flux)\n",
        "            model = tls.transitleastsquares(time, flux)\n",
        "            results = model.power(u=ab,oversampling_factor=5)\n",
        "        else:\n",
        "            period_2 = 13.5\n",
        "            tdur = t14(R_s=radius, M_s=mass, P=period_2, small_planet=False)\n",
        "            flatten_lc, trend_lc = flatten(time, flux, window_length=3*tdur, method='biweight', return_trend=True)\n",
        "            flux = sigma_clip(flatten_lc, sigma_upper=3, sigma_lower=20)\n",
        "            # if numpy.mean(flux) > 1.01 or numpy.mean(flux) < 0.99:\n",
        "            #     # Normalize by the mean if needed\n",
        "            #     flux = flux / numpy.mean(flux)\n",
        "            model = tls.transitleastsquares(time, flux)\n",
        "            mstar_min = mass - 3 * mass_min\n",
        "            if mstar_min < 1e-3:\n",
        "                mstar_min = 0.0\n",
        "            rstar_min = radius - 3 * radius_min\n",
        "            if rstar_min < 1e-3:\n",
        "                rstar_min = 0.0\n",
        "            results = model.power(u=ab, M_star_min=mstar_min, M_star=mass, M_star_max=mass+3*mass_max, R_star_min=rstar_min, R_star=radius, R_star_max=radius+3*radius_max, \n",
        "                            oversampling_factor=5)\n",
        "        tic.append(tic_id)\n",
        "        T0.append(results.T0) \n",
        "        depth.append(results.depth) \n",
        "        period.append(results.period)\n",
        "        period_uncertainty.append(results.period_uncertainty)\n",
        "        duration.append(results.duration * 24)\n",
        "        t_mag.append(tess_mag) \n",
        "        t_eff.append(temp_eff)\n",
        "        radius_0.append(rad)\n",
        "        distinct_transit_count.append(results.distinct_transit_count)\n",
        "        a.append(ab[0])\n",
        "        b.append(ab[1])\n",
        "        log.append(logg)\n",
        "        rp_rs.append(results.rp_rs)\n",
        "        depth_even.append(results.depth_mean_even[0])\n",
        "        depth_odd.append(results.depth_mean_odd[0])\n",
        "        odd_even_mismatch.append(results.odd_even_mismatch)\n",
        "        snr.append(results.snr)\n",
        "        SDE.append(results.SDE)\n",
        "    except (OSError, TypeError):\n",
        "        return None\n",
        "  new_dataframe = pd.DataFrame({'tic_id': tic, 'T0': T0, 'depth': depth, 'period' : period, 'period_uncertainty':period_uncertainty,'duration':duration, 'tess_mag': t_mag,\n",
        "                                'temp_eff': t_eff, 'radius': radius_0, 'distinct_transit_count': distinct_transit_count, 'a': a, 'b': b, 'logg': log, 'rp_rs': rp_rs, 'depth_even':depth_even,\n",
        "                                'depth_odd':depth_odd, 'odd_even_mismatch':odd_even_mismatch, 'snr': snr, 'sde': SDE})\n",
        "  return (new_dataframe,results)\n"
      ]
    },
    {
      "cell_type": "code",
      "execution_count": 37,
      "metadata": {
        "id": "JZqiKUGNXXEV"
      },
      "outputs": [],
      "source": [
        "# fits_data(23)[0]['tic_id']"
      ]
    },
    {
      "cell_type": "markdown",
      "metadata": {
        "id": "6TrmPq0itrXI"
      },
      "source": [
        "https://github.com/hippke/tls/blob/master/tutorials/11%20A%20planet%20from%20TESS%20with%20TLS.ipynb \n",
        "\n",
        "https://github.com/hippke/wotan/blob/master/tutorials/01%20Basic%20functionality.ipynb\n",
        "\n",
        "Wotan documentation- https://wotan.readthedocs.io/_/downloads/en/stable/pdf/"
      ]
    },
    {
      "cell_type": "code",
      "execution_count": null,
      "metadata": {
        "id": "1XaMidaXbsmt"
      },
      "outputs": [],
      "source": [
        "def stellar_params(n):\n",
        "\n",
        "  file_csv = fits_data(n)[0]\n",
        "  tic = file_csv['tic_id']\n",
        "  mass = []\n",
        "  dist = []\n",
        "  logg = []\n",
        "  lum = []\n",
        "  rho =[]\n",
        "  for id in tic:\n",
        "    # print(id)\n",
        "    result = astromast.Catalogs.query_criteria(catalog='TIC', ID=tic)\n",
        "    # print(result['mass'])\n",
        "    mass.append(result['mass'])\n",
        "    # print(id)\n",
        "    dist.append(result['d'])\n",
        "    logg.append(result['logg'])\n",
        "    lum.append(result['lum'])\n",
        "    rho.append(result['rho'])\n",
        "\n",
        "    #df['logg'] = logg\n",
        "  file_csv['Mass'] = mass\n",
        "  file_csv['distance'] = dist\n",
        "  file_csv['lum'] = lum\n",
        "  file_csv['rho'] = rho\n",
        "  return file_csv\n"
      ]
    },
    {
      "cell_type": "code",
      "execution_count": null,
      "metadata": {
        "id": "jbhKDCcU0Mbh"
      },
      "outputs": [],
      "source": [
        "def params(n):\n",
        "  tic_file = stellar_params(n)\n",
        "  tic =  tic_file['tic_id']\n",
        "  camera = ccd = ra = dec= pmra= pmdec= pmtotal= mh = []\n",
        "  count = 0\n",
        "  for id in tic:\n",
        "    initial_path = '/content/drive/Othercomputers/My Laptop/ML Project/MAST/Sector ' + str(n) + '/'\n",
        "    index = tic_file.loc(tic_file['tic_id'] == id)\n",
        "    filename = os.path.join(initial_path, tic_file['Filename'][index])\n",
        "    hdu = fits.open(filename)\n",
        "    camera.appen(hdu[0].header['CAMERA'])\n",
        "    ccd.append(hdu[0].header['CCD'])\n",
        "    ra.append(float(hdu[0].header['RA_OBJ']))\n",
        "    dec.append(float(hdu[0].header['DEC_OBJ']))\n",
        "    pmra.append(float(hdu[0].header['PMRA']))\n",
        "    pmdec.append(float(hdu[0].header['PMDEC']))\n",
        "    pmtotal.append(float(hdu[0].header['PMTOTAL']))\n",
        "    mh.append(float(hdu[0].header['MH']))\n",
        "\n",
        "  tic_file['Camera'] = camera\n",
        "  tic_file['CCD'] = ccd\n",
        "  tic_file['RA'] = ra\n",
        "  tic_file['DEC'] = dec\n",
        "  tic_file['PMRA'] = pmra\n",
        "  tic_file['PMDEC'] = pmdec\n",
        "  tic_file['PMTOTAL'] = pmtotal\n",
        "  tic_file['MH'] = mh\n",
        "\n",
        "  return tic_file"
      ]
    },
    {
      "cell_type": "code",
      "execution_count": null,
      "metadata": {
        "id": "uUDyX7v-AxRa"
      },
      "outputs": [],
      "source": [
        "def plot_phase(result,periodogram = False):\n",
        "    if perdiodogram == True:\n",
        "      plt.figure()\n",
        "      ax = plt.gca()\n",
        "      ax.axvline(results.period, alpha=0.4, lw=3)\n",
        "      plt.xlim(numpy.min(results.periods), numpy.max(results.periods))\n",
        "      for n in range(2, 10):\n",
        "          ax.axvline(n*results.period, alpha=0.4, lw=1, linestyle=\"dashed\")\n",
        "          ax.axvline(results.period / n, alpha=0.4, lw=1, linestyle=\"dashed\")\n",
        "      plt.ylabel(r'SDE')\n",
        "      plt.xlabel('Period (days)')\n",
        "      plt.plot(results.periods, results.power, color='black', lw=0.5)\n",
        "      plt.xlim(0, max(results.periods));  \n",
        "    else:\n",
        "      plt.figure()\n",
        "      plt.plot(result.model_folded_phase, result.model_folded_model, color='red')\n",
        "      plt.scatter(result.folded_phase, result.folded_y, color='blue', s=10, alpha=0.5, zorder=2)\n",
        "      plt.xlim(0.48, 0.52)\n",
        "      plt.xlabel('Phase')\n",
        "      plt.ylabel('Relative flux');"
      ]
    },
    {
      "cell_type": "markdown",
      "metadata": {
        "id": "uCa_pAd0OllL"
      },
      "source": [
        "### 3"
      ]
    },
    {
      "cell_type": "markdown",
      "source": [
        "https://heasarc.gsfc.nasa.gov/docs/tess/LightCurve-object-Tutorial.html"
      ],
      "metadata": {
        "id": "PrwOc1lOO8C-"
      }
    },
    {
      "cell_type": "code",
      "execution_count": 67,
      "metadata": {
        "id": "qL3G1zmAAxDI"
      },
      "outputs": [],
      "source": [
        "def folded_light_curve(n, tic_id,T0,period):\n",
        "  data = params(n)\n",
        "  tess_id = data.loc(data['tic_id'] == tic_id)\n",
        "  lightcurve = load_lightcurve(n,tess_id)\n",
        "  duration = data['duration'][tess_id]\n",
        "  cleaned_lightcurve = lightcurve.remove_outliers(sigma=20, sigma_upper=5)\n",
        "  fold = cleaned_lightcurve.fold(period, t0=T0)\n",
        "  norm_duration = (duration_hours / 24.0) / period\n",
        "  mask = np.abs(fold.phase) < (norm_duration * 1.5)\n",
        "  mask1 = np.in1d(cleaned_lightcurve.time, fold.time_original[mask])\n",
        "  x, y = cleaned_lightcurve.flatten(return_trend=True, mask=mask1)\n",
        "  return x.fold(period, t0=T0)\n",
        "\n",
        "def phase_fold_lk(n, tic_id,T0,period):\n",
        "  tess_id = data.loc(data['tic_id'] == tic_id)\n",
        "  lc = folded_lightcurve(n, tic_id, T0,period)\n",
        "  duration = params['duration'][tess_id]\n",
        "\n",
        "  norm_duration = (duration / 24.0) / period\n",
        "  mask = np.abs(lc.phase) < (0.5*norm_duration)\n",
        "  zoomed = lc[mask]\n",
        "  global_view = zoomed.bin(n_bins=201) \n",
        "  global_view = 2.0 * (global_view / np.abs(global_view.flux.min()))\n",
        "  global_view = global_view.remove_nans()\n",
        "\n",
        "  mask_2 = np.abs(lc.phase) < (2.0*norm_duration)\n",
        "  zoom_lk = lc[mask_2]\n",
        "  local_lk = zoom_lk.bin(n_bins=81) \n",
        "  local_lk = 2.0 * (local_lk / np.abs(local_lk.flux.min()))\n",
        "  local_lk = local_lk.remove_nans()\n",
        "\n",
        "  lc_2 = folded_lightcurve(n, tic_id, period, T0 + 0.25 * period)\n",
        "  half_phase = lc_2.bin(n_bins=201) \n",
        "  half_phase = 2.0 * (half_phase / np.abs(half_phase.flux.min()))\n",
        "  half_phase = half_phase.remove_nans()\n",
        "\n",
        "  half_even = zoom_lk.bin(n_bins=81)  \n",
        "\n",
        "  lc_3 = folded_lightcurve(n, tic_id, period, t0 - 0.5 * period)\n",
        "  mask_3 = np.abs(lc_3.phase) < (2.0*norm_duration)\n",
        "  zoom_lc = lc_3[mask_3]\n",
        "  half_odd = zoom_lc.bin(n_bins=81) \n",
        "\n",
        "  time_net = np.concatenate((half_odd.time, half_even.time))\n",
        "  flux_net = np.concatenate((half_odd.flux, half_even.flux))\n",
        "  concatenated = lk.LightCurve(time_net, flux_net)\n",
        "  normed = 2.0 * (concatenated / np.abs(concatenated.flux.min()))\n",
        "                \n",
        "  return global_view, local_lk, half_phase, normed\n",
        "\n",
        "def final_lk(n, tic_id):\n",
        "  data = params(n)\n",
        "  try:\n",
        "    period = data['period'][tess_id]\n",
        "    T0 = data['T0'][tess_id]\n",
        "    return phase_fold_lk(n, tic_id,T0,period)\n",
        "  except:\n",
        "    return None, None, None, None"
      ]
    },
    {
      "cell_type": "code",
      "execution_count": 65,
      "metadata": {
        "id": "A62XGf0RbpG9"
      },
      "outputs": [],
      "source": [
        ""
      ]
    },
    {
      "cell_type": "code",
      "execution_count": null,
      "metadata": {
        "id": "E2iQ-uWTAwog"
      },
      "outputs": [],
      "source": [
        ""
      ]
    },
    {
      "cell_type": "code",
      "execution_count": null,
      "metadata": {
        "id": "j9mQf5W0utRI"
      },
      "outputs": [],
      "source": [
        "def cnn_model(global_shape,local_shape,half_phase, stellar_transit):\n",
        "\n",
        "  def nn(x, filter, kernel_size,act):\n",
        "    return layers.Conv1D(filters, kernel_size,padding = 'same',activation = act)(x)\n",
        "\n",
        "  def global_view_model(x):\n",
        "    for i in [16,32,64,128,256]:\n",
        "      x = nn(x,i,7,'relu')\n",
        "      x = nn(x,i,7,'relu')\n",
        "      x = layers.MaxPooling1D(5, 2)(x)\n",
        "    return layers.Flatten()(x)\n",
        "\n",
        "  def local_view_model(x):\n",
        "    for i in [16,32]:\n",
        "      x = nn(x,i,7,'relu')\n",
        "      x = nn(x,i,7,'relu')\n",
        "      x = layers.MaxPool1D(5,2)(x)\n",
        "    return layers.Flatten()(x)\n",
        "\n",
        "  global_in = tf.keras.Input(shape=global_shape)\n",
        "  global_model = global_view_model(global_in)\n",
        "  local_in = Input(shape=local_shape)\n",
        "  local_model = local_view_model(local_in)\n",
        "  half_phase_in = Input(shape=half_phase)\n",
        "  half_phase_model = local_view_model(half_phase_in)\n",
        "\n",
        "  combine = layers.Concacatenate(axis=1)([global_model,local_model, half_phase_model])\n",
        "\n",
        "  stellar_transit_in =[]\n",
        "  for i in stellar_transit:\n",
        "    y = Input(shape=(1,))\n",
        "    combine = layers.Concacatenate(axis=1)([combine, y])\n",
        "    stellar_transit_in.append(y)\n",
        "  # Fully connected layers\n",
        "  model = keras.models.Sequential()\n",
        "  model.add(layers.Dense(512,activation='relu'))\n",
        "  for i in range(3):\n",
        "    model.add(layers.Dropout(0.25))\n",
        "    model.add(layers.Dense(512,activation='relu'))\n",
        "  # Activation for output layer is sigmoid\n",
        "  model.add(layers.Dense(1,activation='sigmoid',bias_initializer = keras.initializers.Constant(value=0)))\n",
        "  out = model(combine)\n",
        "\n",
        "  final_model = keras.Model(inputs= [global_in,local_in, half_phase_in, stellar_transit_in], outputs = [out])\n",
        "  adam = keras.optimizers.Adam(learning_rate=1e-5, epsilon= 1e-8)\n",
        "  final_model.compile(loss= keras.losses.BinaryCrossentropy() , optimizer = adam, metrics = [keras.metrics.BinaryAccuracy()])\n",
        "  \n",
        "  return final_model\n",
        "\n",
        "\n",
        "\n"
      ]
    },
    {
      "cell_type": "code",
      "execution_count": null,
      "metadata": {
        "id": "xLnkqm3Ev9C-"
      },
      "outputs": [],
      "source": [
        ""
      ]
    },
    {
      "cell_type": "code",
      "execution_count": null,
      "metadata": {
        "id": "LT4i7gl56ihk"
      },
      "outputs": [],
      "source": [
        ""
      ]
    }
  ],
  "metadata": {
    "colab": {
      "collapsed_sections": [],
      "name": "Nigraha Implementation.ipynb",
      "provenance": []
    },
    "kernelspec": {
      "display_name": "Python 3",
      "name": "python3"
    },
    "language_info": {
      "name": "python"
    }
  },
  "nbformat": 4,
  "nbformat_minor": 0
}